{
  "nbformat": 4,
  "nbformat_minor": 0,
  "metadata": {
    "colab": {
      "provenance": [],
      "authorship_tag": "ABX9TyPUUqTN4pOLg7KVdlkLtJK+",
      "include_colab_link": true
    },
    "kernelspec": {
      "name": "python3",
      "display_name": "Python 3"
    },
    "language_info": {
      "name": "python"
    }
  },
  "cells": [
    {
      "cell_type": "markdown",
      "metadata": {
        "id": "view-in-github",
        "colab_type": "text"
      },
      "source": [
        "<a href=\"https://colab.research.google.com/github/Aroob-Aziz/python/blob/main/Assignment_01_Aroob.ipynb\" target=\"_parent\"><img src=\"https://colab.research.google.com/assets/colab-badge.svg\" alt=\"Open In Colab\"/></a>"
      ]
    },
    {
      "cell_type": "markdown",
      "source": [
        "**Task 1: Variables and Data Types**\n",
        "\n",
        "a) Create three variables: one for storing your age (integer), one for your name (string), and one to\n",
        "check if you are a student (Boolean). Print the variables.\n",
        "b) Perform the following operations and print the results:\n",
        "- Add 25 to your age variable.\n",
        "- Concatenate your name with the string &quot;Smith.&quot;\n",
        "- Negate the Boolean variable (if True, make it False, and vice versa)."
      ],
      "metadata": {
        "id": "WDR0xvX8NKU9"
      }
    },
    {
      "cell_type": "code",
      "execution_count": null,
      "metadata": {
        "colab": {
          "base_uri": "https://localhost:8080/"
        },
        "id": "0LiFprB-M-sP",
        "outputId": "5f9ee8a0-a323-4000-9d10-71037a3656ff"
      },
      "outputs": [
        {
          "output_type": "stream",
          "name": "stdout",
          "text": [
            "48\n",
            "Aroob Smith\n",
            "False\n"
          ]
        }
      ],
      "source": [
        "age = 23\n",
        "name = \"Aroob\"\n",
        "is_student = True\n",
        "\n",
        "print(age + 25)\n",
        "print(f'{name} Smith')\n",
        "print(not is_student)"
      ]
    },
    {
      "cell_type": "markdown",
      "source": [
        "**Task 2: Expressions and Operators**\n",
        "\n",
        "a) A rectangle has a width of 5.5 units and a height of 3.25 units. Store width and height in variables. Create a new variable called area and write an expression to calculate the area. Print the area in the output.\n",
        "b) Take temperature input from user in Celsius. Convert it to Fahrenheit using the formula:\n",
        "F = (C * 9/5) + 32\n",
        "Store this temperature in a variable called Fahrenheit and print this variable.\n",
        "c)Take radius of the circle as input from user. Calculate the area of a circle with this radius and store it in a variable called area. Print area at the end of your code.\n",
        "(Use the formula: area = π * radius^2, where π (pi) is approximately 3.14159).\n"
      ],
      "metadata": {
        "id": "BPw66AszPx-j"
      }
    },
    {
      "cell_type": "code",
      "source": [
        "# a) finding rectangle area => rectangle area = width * height\n",
        "width = 5.5\n",
        "height = 3.25\n",
        "area = width * height\n",
        "print(\"Area of rectangle is: \", area)\n",
        "\n",
        "# b) converting celsius into farhenheit\n",
        "celsius = float(input(\"Enter the temperature in celsius: \"))\n",
        "farhenheit = (celsius * (9/5)) + 32\n",
        "print(\"Temperature in farhenheit is: \", farhenheit)\n",
        "\n",
        "# c) finding circle area\n",
        "radius = float(input(\"Enter the radius of the circle: \"))\n",
        "area = 3.14159 * (radius ** 2)\n",
        "print(\"Area of the circle is: \", area)\n",
        "#"
      ],
      "metadata": {
        "colab": {
          "base_uri": "https://localhost:8080/"
        },
        "id": "kmEK25mcPNn0",
        "outputId": "59c56677-80cd-475a-abdd-5766a4ad57f7"
      },
      "execution_count": null,
      "outputs": [
        {
          "output_type": "stream",
          "name": "stdout",
          "text": [
            "Area of rectangle is:  17.875\n",
            "Enter the temperature in celsius: 37\n",
            "Temperature in farhenheit is:  98.60000000000001\n",
            "Enter the radius of the circle: 1\n",
            "Area of the circle is:  3.14159\n"
          ]
        }
      ]
    },
    {
      "cell_type": "markdown",
      "source": [
        "**Task 3: List Manipulation**\n",
        "\n",
        "a) Create a list called \"fruits\" containing the following fruits: \"apple\", \"banana\", \"cherry\", \"date\", \"strawberry\", \"fig\", and \"grape\". Print the list.\n",
        "1. Remove the first and last elements from the \"fruits\" list. Print the updated list.\n",
        "2. Replace the second to fourth items with [\"kiwi\", \"lemon\", \"mango\"] using list slicing.\n",
        "3. Use the len() function to find how many fruits are in the list.\n"
      ],
      "metadata": {
        "id": "eQ178VlmRdiO"
      }
    },
    {
      "cell_type": "code",
      "source": [
        "fruits = [\"apple\", \"banana\", \"cherry\", \"date\", \"strawberry\", \"fig\", \"grape\"]\n",
        "print(fruits)\n",
        "\n",
        "# 1. Remove the first and last elements from the \"fruits\" list. Print the updated list.\n",
        "fruits.pop(0)\n",
        "fruits.pop(-1)\n",
        "print(\"Updated list after popping first and last element\",fruits)\n",
        "\n",
        "# 2. Replace the second to fourth items with [\"kiwi\", \"lemon\", \"mango\"]\n",
        "fruits[1:4] = [\"kiwi\", \"lemon\", \"mango\"]\n",
        "print(\"Updated list after replacing second to fourth items\", fruits)\n",
        "\n",
        "# 3. Use the len() function to find how many fruits are in the list\n",
        "print(\"The total number of fruits available in the list are: \", len(fruits))"
      ],
      "metadata": {
        "colab": {
          "base_uri": "https://localhost:8080/"
        },
        "id": "Z4038OCJRTGn",
        "outputId": "f8ddabe9-f196-441c-c102-11587d4b20ce"
      },
      "execution_count": null,
      "outputs": [
        {
          "output_type": "stream",
          "name": "stdout",
          "text": [
            "['apple', 'banana', 'cherry', 'date', 'strawberry', 'fig', 'grape']\n",
            "Updated list after popping first and last element ['banana', 'cherry', 'date', 'strawberry', 'fig']\n",
            "Updated list after replacing second to fourth items ['banana', 'kiwi', 'lemon', 'mango', 'fig']\n",
            "The total number of fruits available in the list are:  5\n"
          ]
        }
      ]
    },
    {
      "cell_type": "markdown",
      "source": [
        "**Task 4: Dictionary Operations**\n",
        "\n",
        "a) Create a dictionary named \"capitals\" with three key-value pairs: \"USA\" - \"Washington D.C.,\" \"France\" - \"Paris,\" and \"Japan\" - \"Tokyo.\" Print the dictionary.\n",
        "\n",
        "b) Add a new country and its capital to the \"capitals\" dictionary. The country is \"Germany,\" and the capital is \"Berlin.\" Print the updated dictionary.\n",
        "\n",
        "c) Check if \"France\" exists in the \"capitals\" dictionary. If it does, print \"France is in the dictionary,\" otherwise, print \"France is not in the dictionary.\"\n"
      ],
      "metadata": {
        "id": "_1mmIbrBiB5I"
      }
    },
    {
      "cell_type": "code",
      "source": [
        "# a\n",
        "country_capital = {\"USA\" : \"Washington D.C.\", \"France\" : \"Paris\", \"Japan\" : \"Tokyo\"}\n",
        "print(country_capital)\n",
        "\n",
        "#b\n",
        "country_capital[\"Germay\"] = \"Berlin\"\n",
        "print(\"Dictionary after adding country Germany along with its capital Berlin is:\", country_capital)\n",
        "\n",
        "#c\n",
        "if \"France\" in country_capital:\n",
        "    print(\"France is in the dictionary\")\n",
        "else:\n",
        "    print(\"France is not in the dictionary\")\n",
        "\n",
        "# alternate of c (using get method)\n",
        "if country_capital.get(\"France\"):\n",
        "   print(\"France is in the dictionary\")\n",
        "else:\n",
        "  print(\"France is not in the dictionary\")\n"
      ],
      "metadata": {
        "colab": {
          "base_uri": "https://localhost:8080/"
        },
        "id": "OrTBL4XNRv5N",
        "outputId": "8a6a09a0-602f-43fe-9f7f-2c78df7ea566"
      },
      "execution_count": null,
      "outputs": [
        {
          "output_type": "stream",
          "name": "stdout",
          "text": [
            "{'USA': 'Washington D.C.', 'France': 'Paris', 'Japan': 'Tokyo'}\n",
            "Dictionary after adding country Germany along with its capital Berlin is: {'USA': 'Washington D.C.', 'France': 'Paris', 'Japan': 'Tokyo', 'Germay': 'Berlin'}\n",
            "France is in the dictionary\n",
            "France is in the dictionary\n"
          ]
        }
      ]
    },
    {
      "cell_type": "markdown",
      "source": [
        "**Task 5: Comparison Operators, Logical Operators and If/Else:**\n",
        "\n",
        "a) Create a variable called number that takes user input. Write a block of code that checks if the number is positive or negative. If the number is positive only then further check if it is even or odd. Your output should print “The number is even”, or the “The number is odd”.\n",
        "\n",
        "b) Create two variables called age and GPA. Give them values of your choice. Next, write a block of code to check if a student with this age and GPA is eligible for admission. The following are the conditions:\n",
        "   - The student must be at least 18 years old.\n",
        "   - The student's GPA must be 3.0 or higher on a scale of 4.0.\n",
        "   Your output should print “Eligible for admission” or “Not eligible for admission”.\n"
      ],
      "metadata": {
        "id": "wf1T5CY0kO1u"
      }
    },
    {
      "cell_type": "code",
      "source": [
        "# a\n",
        "number = int(input(\"Enter a number: \"))\n",
        "if number > 0:\n",
        "  if number % 2 == 0:\n",
        "    print(\"The number is even\")\n",
        "  else:\n",
        "    print(\"The number is odd\")\n",
        "else:\n",
        "  print(\"The number is negative, please enter positive number\")\n",
        "\n",
        "#b\n",
        "age = 23\n",
        "gpa = 3.8\n",
        "if age >=18 and (gpa >= 3.0 and gpa <= 4.0):\n",
        "  print(\"Eligible for admission\")\n",
        "else:\n",
        "  print(\"Not eligible for admission\")"
      ],
      "metadata": {
        "colab": {
          "base_uri": "https://localhost:8080/"
        },
        "id": "lV6B01PhiRqK",
        "outputId": "93318f61-6e54-40b5-c0b4-8782433af847"
      },
      "execution_count": null,
      "outputs": [
        {
          "output_type": "stream",
          "name": "stdout",
          "text": [
            "Enter a number: 4\n",
            "The number is even\n",
            "Eligible for admission\n"
          ]
        }
      ]
    },
    {
      "cell_type": "markdown",
      "source": [
        "**Task 6: Strings Manipulation**\n",
        "\n",
        "a) Create a string variable containing the following sentence:\n",
        "   \"Python programming is fun and powerful!\"\n",
        "   Write Python code to do the following and print the results:\n",
        "   1. Find the length of the string.\n",
        "   2. Convert the string to uppercase.\n",
        "   3. Replace \"fun\" with \"exciting.\"\n",
        "   4. Check if the string contains the word \"Python.\"\n",
        "   5. Extract the last word \"powerful!\"\n",
        "   6. Remove the word programming from the sentence and print the rest of the sentence.\n",
        "\n",
        "b) Given the string email = \"user@example.com\", perform the following:\n",
        "\n",
        "1. Extract the username part (everything before the \"@\" symbol).\n",
        "2. Extract the domain part (everything after the \"@\" symbol).\n",
        "3. Check if the email contains the substring \"example\".\n"
      ],
      "metadata": {
        "id": "Xowbb9viltTm"
      }
    },
    {
      "cell_type": "code",
      "source": [
        "str = \"Python programming is fun and powerful\"\n",
        "#1\n",
        "print(\"Length if the string is: \",len(str))\n",
        "#2\n",
        "print(\"String in uppercase is: \",str.upper())\n",
        "#3\n",
        "str_list = str.split()\n",
        "str_list[3] = \"exciting\"\n",
        "result = ' '.join(str_list)\n",
        "print(\"Modified string is: \",result)\n",
        "#4\n",
        "contains_python = \"Python\" in str\n",
        "print(\"Does word Python is included in the string: \",contains_python)\n",
        "#5\n",
        "last_word = str.split()[-1]\n",
        "print(\"The last word of the string is: \", last_word)\n",
        "#6\n",
        "remove_item = str.replace(\"programming\",\"\")\n",
        "print(\"String after removing programming is: \", remove_item)\n",
        "\n",
        "#b\n",
        "email = \"user@example.com\"\n",
        "#1\n",
        "username = email[0:email.index(\"@\")]\n",
        "print(\"Username is: \",username)\n",
        "\n",
        "#alternate\n",
        "username_alt = email.split(\"@\")[0]\n",
        "print(\"Username is: \",username_alt)\n",
        "\n",
        "#2\n",
        "domain = email[email.index(\"@\")+1:]\n",
        "print(\"Domain is: \",domain)\n",
        "\n",
        "#alternate\n",
        "domain_alt = email.split(\"@\")[1]\n",
        "print(\"Domain is: \",domain_alt)\n",
        "\n",
        "#3\n",
        "contains_example = \"example\" in domain\n",
        "print(\"Does domain contains example: \",contains_example)\n",
        "\n",
        "\n",
        "\n",
        "\n"
      ],
      "metadata": {
        "colab": {
          "base_uri": "https://localhost:8080/"
        },
        "id": "HltwHCYclH3m",
        "outputId": "ea100cdc-5f58-4ed6-8a8d-c89bba73e9b3"
      },
      "execution_count": null,
      "outputs": [
        {
          "output_type": "stream",
          "name": "stdout",
          "text": [
            "Length if the string is:  38\n",
            "String in uppercase is:  PYTHON PROGRAMMING IS FUN AND POWERFUL\n",
            "Modified string is:  Python programming is exciting and powerful\n",
            "Does word Python is included in the string:  True\n",
            "The last word of the string is:  powerful\n",
            "String after removing programming is:  Python  is fun and powerful\n",
            "Username is:  user\n",
            "Username is:  user\n",
            "Domain is:  example.com\n",
            "Domain is:  example.com\n",
            "Does domain contains example:  True\n"
          ]
        }
      ]
    },
    {
      "cell_type": "markdown",
      "source": [
        "**Task 7: For Loops and While Loops**"
      ],
      "metadata": {
        "id": "9GtcGOhw4OOV"
      }
    },
    {
      "cell_type": "markdown",
      "source": [
        "a) Given a list of temperatures for a week, write a program that tells you how many days were above 25°C.  \n",
        "temp_list = [26, 28, 32, 36, 30, 25, 24, 22, 20, 18]\n",
        "1. for temp > 25, print “Today's temp:  temp, its hot!”\n",
        "2. for temp <= 25, print “Today's temp:  temp, it is chilly today!”\n"
      ],
      "metadata": {
        "id": "hptNU_rS4UsC"
      }
    },
    {
      "cell_type": "code",
      "source": [
        "temp_list = [26, 28, 32, 36, 30, 25, 24, 22, 20, 18]\n",
        "count = 0\n",
        "for temp in temp_list:\n",
        "  if temp > 25:\n",
        "    print(f\"Today's temp: {temp}, its hot!\")\n",
        "    count += 1\n",
        "  else:\n",
        "    print(f\"Today's temp: {temp}, it is chilly today!\")\n",
        "print(\"The total number of days when temp goes above 25 is: \",count)"
      ],
      "metadata": {
        "colab": {
          "base_uri": "https://localhost:8080/"
        },
        "id": "9_pYJu2Nm9pX",
        "outputId": "b69a3177-1b16-44fc-e11b-ebb2cc02e05a"
      },
      "execution_count": null,
      "outputs": [
        {
          "output_type": "stream",
          "name": "stdout",
          "text": [
            "Today's temp: 26, its hot!\n",
            "Today's temp: 28, its hot!\n",
            "Today's temp: 32, its hot!\n",
            "Today's temp: 36, its hot!\n",
            "Today's temp: 30, its hot!\n",
            "Today's temp: 25, it is chilly today!\n",
            "Today's temp: 24, it is chilly today!\n",
            "Today's temp: 22, it is chilly today!\n",
            "Today's temp: 20, it is chilly today!\n",
            "Today's temp: 18, it is chilly today!\n",
            "The total number of days when temp goes above 25 is:  5\n"
          ]
        }
      ]
    },
    {
      "cell_type": "markdown",
      "source": [
        "b) Use a for loop and the range() function to display following sequences:\n",
        "1. Add to list: [-20, -17, -14, -11, -8, -5, -2, 1, 4, 7, 10, 13, 16, 19, 22, 25, 28]\n",
        "2. Add to list: [110, 112, 114, 116, 118, 120, 122, 124, 126, 128]\n",
        "3. Print: Multiples of 7 starting from 5 and less than 100.\n",
        "4. Print: The first 20 Fibonacci numbers.\n"
      ],
      "metadata": {
        "id": "0t9JBZJa8_7R"
      }
    },
    {
      "cell_type": "code",
      "source": [
        "#1\n",
        "first_sequence = []\n",
        "for i in range(-20,29,3):\n",
        "  first_sequence.append(i)\n",
        "print(\"The first sequence is: \", first_sequence)\n",
        "\n",
        "\n",
        "#2\n",
        "second_sequence = []\n",
        "for i in range(110, 129, 2):\n",
        "  second_sequence.append(i)\n",
        "print(\"The second sequence is: \", second_sequence)\n",
        "\n",
        "#3\n",
        "multiples = []\n",
        "for i in range(7,100,7):\n",
        "  multiples.append(i)\n",
        "print(\"The multiples of 7 are: \",multiples)\n",
        "\n",
        "#4\n",
        "# fibbonacci => 0, 1, 1 , 2, 3, 5...\n",
        "a,b = 0, 1\n",
        "\n",
        "for i in range(20):\n",
        "  print(a, end=\" \")\n",
        "  a, b = b, a+b\n",
        "\n",
        "\n",
        "\n"
      ],
      "metadata": {
        "colab": {
          "base_uri": "https://localhost:8080/"
        },
        "id": "W8P6sr_C5Lao",
        "outputId": "5f57c297-db40-4a1f-cc89-fb8f59cdd69b"
      },
      "execution_count": null,
      "outputs": [
        {
          "output_type": "stream",
          "name": "stdout",
          "text": [
            "The first sequence is:  [-20, -17, -14, -11, -8, -5, -2, 1, 4, 7, 10, 13, 16, 19, 22, 25, 28]\n",
            "The second sequence is:  [110, 112, 114, 116, 118, 120, 122, 124, 126, 128]\n",
            "The multiples of 7 are:  [7, 14, 21, 28, 35, 42, 49, 56, 63, 70, 77, 84, 91, 98]\n",
            "0 1 1 2 3 5 8 13 21 34 55 89 144 233 377 610 987 1597 2584 4181 "
          ]
        }
      ]
    },
    {
      "cell_type": "markdown",
      "source": [
        "c) Use nested loops to display the following pattern.\n",
        "\n"
      ],
      "metadata": {
        "id": "0Hhyr-stIr8G"
      }
    },
    {
      "cell_type": "code",
      "source": [
        "for i in range(1, 7):  # 6 rows\n",
        "    # Inner loop for the number of stars in each row\n",
        "    for j in range(i):  # j runs from 0 to i-1\n",
        "        print(\"*\", end=\"\")  # Print star without a newline\n",
        "    print()"
      ],
      "metadata": {
        "colab": {
          "base_uri": "https://localhost:8080/"
        },
        "id": "IotPDcyt9Saz",
        "outputId": "1dd7a5b2-560b-4beb-82b5-97ce8fa9e613"
      },
      "execution_count": null,
      "outputs": [
        {
          "output_type": "stream",
          "name": "stdout",
          "text": [
            "*\n",
            "**\n",
            "***\n",
            "****\n",
            "*****\n",
            "******\n"
          ]
        }
      ]
    },
    {
      "cell_type": "markdown",
      "source": [
        "d) Write a nested loop through the given list to find pair of numbers that sum to a given value.\n",
        "\n",
        "numbers = [6, 8, 2, 4, 6, 10]\n",
        "target_sum = 12\n",
        "\n",
        "Save and print the pairs in tuples.\n"
      ],
      "metadata": {
        "id": "53MsrLqeJ72D"
      }
    },
    {
      "cell_type": "code",
      "source": [
        "numbers = [6, 8, 2, 4, 6, 10]\n",
        "target_sum = 12\n",
        "pairs = []\n",
        "for i in range(len(numbers)):\n",
        "    for j in range(i + 1, len(numbers)):\n",
        "        if numbers[i] + numbers[j] == target_sum:\n",
        "            pairs.append((numbers[i], numbers[j]))\n",
        "\n",
        "\n",
        "print(\"Pairs that sum to\", target_sum, \":\", pairs)"
      ],
      "metadata": {
        "colab": {
          "base_uri": "https://localhost:8080/"
        },
        "id": "gL6jtWKnJE3v",
        "outputId": "7c910037-d5b8-40ae-eddb-f16171e9c11d"
      },
      "execution_count": null,
      "outputs": [
        {
          "output_type": "stream",
          "name": "stdout",
          "text": [
            "Pairs that sum to 12 : [(6, 6), (8, 4), (2, 10)]\n"
          ]
        }
      ]
    },
    {
      "cell_type": "markdown",
      "source": [
        "e) A student obtains the following grades in his courses. Make a list of his scores and write a loop to sum up his total score. Also, calculate his percentage.\n",
        "\n",
        "Courses                 Scores out of 100\n",
        "Mathematics                    78\n",
        "Programming                   82\n",
        "Biology                               65\n",
        "Physics                               80\n",
        "Chemistry                          50\n",
        "\n",
        "Next, use python dictionary to assign grades to the student according to the following table:\n",
        "\n",
        "Percentage   Grade\n",
        "90-100                 A\n",
        "80-89                   B+\n",
        "60-79                   B\n",
        "40-59                   C\n",
        "39 and below     F\n"
      ],
      "metadata": {
        "id": "mOzih60_KR0t"
      }
    },
    {
      "cell_type": "code",
      "source": [
        "# Step 1: Define course scores\n",
        "courses = {\n",
        "    \"Mathematics\": 78,\n",
        "    \"Programming\": 82,\n",
        "    \"Biology\": 65,\n",
        "    \"Physics\": 80,\n",
        "    \"Chemistry\": 50,\n",
        "}\n",
        "\n",
        "# Step 2: Calculate total score\n",
        "total_score = sum(courses.values())  # Sum up all the scores\n",
        "total_subjects = len(courses)  # Count the number of courses\n",
        "max_total = total_subjects * 100  # Maximum possible total score\n",
        "percentage = (total_score / max_total) * 100  # Calculate percentage\n",
        "\n",
        "# Step 3: Assign grade based on percentage\n",
        "if 90 <= percentage <= 100:\n",
        "    grade = \"A\"\n",
        "elif 80 <= percentage < 90:\n",
        "    grade = \"B+\"\n",
        "elif 60 <= percentage < 80:\n",
        "    grade = \"B\"\n",
        "elif 40 <= percentage < 60:\n",
        "    grade = \"C\"\n",
        "else:\n",
        "    grade = \"F\"\n",
        "\n",
        "# Step 4: Print results\n",
        "print(\"Total Score:\", total_score)\n",
        "print(\"Percentage:\", f\"{percentage:.2f}%\")\n",
        "print(\"Grade:\", grade)\n"
      ],
      "metadata": {
        "colab": {
          "base_uri": "https://localhost:8080/"
        },
        "id": "-fAdmBDKKDp0",
        "outputId": "f745d671-225c-4309-f42b-f9a019b34664"
      },
      "execution_count": null,
      "outputs": [
        {
          "output_type": "stream",
          "name": "stdout",
          "text": [
            "Total Score: 355\n",
            "Percentage: 71.00%\n",
            "Grade: B\n"
          ]
        }
      ]
    },
    {
      "cell_type": "markdown",
      "source": [
        "**Task 8: Functions:**\n",
        "\n",
        "a) Write a function called calculate_area that takes the length and width of a rectangle and returns its area.\n",
        "\n",
        "b) Write a Python function to find the max of three numbers entered by the user.\n",
        "\n",
        "c) Create a basic calculator program that can perform addition, subtraction, multiplication, and division operations. Ask the user to input 2 numbers and the operation they want to perform. Print result accordingly.\n",
        "\n"
      ],
      "metadata": {
        "id": "JZiELrxHKt7b"
      }
    },
    {
      "cell_type": "code",
      "source": [
        "#a\n",
        "def calculate_area(length, width):\n",
        "    return length * width\n",
        "\n",
        "length = float(input(\"Enter the length of the rectangle: \"))\n",
        "width = float(input(\"Enter the width of the rectangle: \"))\n",
        "print(f\"The area of the rectangle is: {calculate_area(length, width)}\")\n"
      ],
      "metadata": {
        "colab": {
          "base_uri": "https://localhost:8080/"
        },
        "id": "dxzIbGXKKqCY",
        "outputId": "605f6422-74e5-434f-af3a-24ade09adb86"
      },
      "execution_count": null,
      "outputs": [
        {
          "output_type": "stream",
          "name": "stdout",
          "text": [
            "Enter the length of the rectangle: 2\n",
            "Enter the width of the rectangle: 2\n",
            "The area of the rectangle is: 4.0\n"
          ]
        }
      ]
    },
    {
      "cell_type": "code",
      "source": [
        "#b\n",
        "def find_max_of_three(a, b, c):\n",
        "    return max(a, b, c)\n",
        "\n",
        "num1 = float(input(\"Enter the first number: \"))\n",
        "num2 = float(input(\"Enter the second number: \"))\n",
        "num3 = float(input(\"Enter the third number: \"))\n",
        "print(f\"The maximum of the three numbers is: {find_max_of_three(num1, num2, num3)}\")"
      ],
      "metadata": {
        "colab": {
          "base_uri": "https://localhost:8080/"
        },
        "id": "YWPn3X-uK9EE",
        "outputId": "8a2870cb-1093-456d-a7ae-0fc86291a431"
      },
      "execution_count": null,
      "outputs": [
        {
          "output_type": "stream",
          "name": "stdout",
          "text": [
            "Enter the first number: 1\n",
            "Enter the second number: 2\n",
            "Enter the third number: 3\n",
            "The maximum of the three numbers is: 3.0\n"
          ]
        }
      ]
    },
    {
      "cell_type": "code",
      "source": [
        "#c\n",
        "def calculator(num1, num2, operation):\n",
        "    if operation == '+':\n",
        "        return num1 + num2\n",
        "    elif operation == '-':\n",
        "        return num1 - num2\n",
        "    elif operation == '*':\n",
        "        return num1 * num2\n",
        "    elif operation == '/':\n",
        "        if num2 != 0:\n",
        "            return num1 / num2\n",
        "        else:\n",
        "            return \"Error: Division by zero is not allowed.\"\n",
        "    else:\n",
        "        return \"Invalid operation!\"\n",
        "\n",
        "num1 = float(input(\"Enter the first number: \"))\n",
        "num2 = float(input(\"Enter the second number: \"))\n",
        "operation = input(\"Enter the operation (+, -, *, /): \")\n",
        "\n",
        "result = calculator(num1, num2, operation)\n",
        "print(f\"The result of the operation is: {result}\")\n"
      ],
      "metadata": {
        "colab": {
          "base_uri": "https://localhost:8080/"
        },
        "id": "MGmSq2lILGj9",
        "outputId": "76299112-0f11-41a9-83ba-9d7d47ede7f6"
      },
      "execution_count": null,
      "outputs": [
        {
          "output_type": "stream",
          "name": "stdout",
          "text": [
            "Enter the first number: 1\n",
            "Enter the second number: 2\n",
            "Enter the operation (+, -, *, /): +\n",
            "The result of the operation is: 3.0\n"
          ]
        }
      ]
    },
    {
      "cell_type": "code",
      "source": [],
      "metadata": {
        "id": "qhSQZ3V5LMq5"
      },
      "execution_count": null,
      "outputs": []
    }
  ]
}